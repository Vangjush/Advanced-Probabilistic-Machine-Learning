{
 "cells": [
  {
   "cell_type": "code",
   "execution_count": 2,
   "metadata": {},
   "outputs": [
    {
     "name": "stdout",
     "output_type": "stream",
     "text": [
      "Theta values are:  [0.   0.05 0.1  0.15 0.2  0.25 0.3  0.35 0.4  0.45 0.5  0.55 0.6  0.65\n",
      " 0.7  0.75 0.8  0.85 0.9  0.95]\n",
      "\n",
      "p(C = c1 | X =t) values are:  [0.0, 0.091, 0.167, 0.231, 0.286, 0.333, 0.375, 0.412, 0.444, 0.474, 0.5, 0.524, 0.545, 0.565, 0.583, 0.6, 0.615, 0.63, 0.643, 0.655]\n"
     ]
    },
    {
     "data": {
      "image/png": "[encoded data removed]",
      "text/plain": [
       "<matplotlib.figure.Figure at 0x10ef15198>"
      ]
     },
     "metadata": {},
     "output_type": "display_data"
    }
   ],
   "source": [
    "## ML: Advanced Probabilistic Methods\n",
    "## Exercise 1, Problem 1: Coins\n",
    "import matplotlib.pyplot as plt\n",
    "import numpy as np\n",
    "\n",
    "# define some variables:\n",
    "theta_2 = 0.5\n",
    "pi_1 = 0.5\n",
    "\n",
    "# compute posterior probability of c_1\n",
    "theta_1 = np.linspace(0,1, num=20, endpoint=False)\n",
    "post_c1 = []\n",
    "for i in theta_1:\n",
    "    post_c1.append(np.round((i*pi_1)/(i*pi_1 + theta_2 - pi_1*theta_2),3))\n",
    "                            \n",
    "print('Theta values are: ', theta_1)\n",
    "print('\\np(C = c1 | X =t) values are: ', post_c1)\n",
    "# plot the result\n",
    "plt.figure(figsize=(12,8))\n",
    "plt.plot(theta_1, post_c1)\n",
    "plt.title('$p(C = c_1 \\\\mid X = t)$ as a function of $\\\\theta_1$')\n",
    "plt.xlabel('$\\\\theta_1$')\n",
    "plt.show()"
   ]
  },
  {
   "cell_type": "code",
   "execution_count": 1,
   "metadata": {},
   "outputs": [
    {
     "name": "stdout",
     "output_type": "stream",
     "text": [
      "The simulated variables are: \n",
      " [[ 0.44122749 -0.33087015]\n",
      " [ 2.43077119 -0.25209213]\n",
      " [ 0.10960984  1.58248112]\n",
      " [-0.9092324  -0.59163666]\n",
      " [ 0.18760323 -0.32986996]\n",
      " [-1.19276461 -0.20487651]\n",
      " [-0.35882895  0.6034716 ]\n",
      " [-1.66478853 -0.70017904]\n",
      " [ 1.15139101  1.85733101]\n",
      " [-1.51117956  0.64484751]]\n",
      "\n",
      "1. Maximum Likelihood:\n",
      "Mean: \n",
      " [-0.13161913  0.22786068]\n",
      "Covariance Matrix: \n",
      " [[1.47363386 0.25481573]\n",
      " [0.25481573 0.7378825 ]]\n",
      "\n",
      "2. Bayesian Posterior:\n",
      "Mean: \n",
      " [[-0.06580957  0.11393034]]\n",
      "Covariance Matrix: \n",
      " [[0.05 0.  ]\n",
      " [0.   0.05]]\n"
     ]
    }
   ],
   "source": [
    "##EXERCISiE 3\n",
    "#Problem 2\n",
    "import numpy as np\n",
    "import random\n",
    "\n",
    "N = 10\n",
    "np.random.seed(5)\n",
    "\n",
    "#Generate 10 observations\n",
    "mean = [0,0]\n",
    "sigma = [[1,0],[0,1]]\n",
    "data = np.random.multivariate_normal(mean, sigma, 10) #numpy provides this function that it generates the variables matrix\n",
    "print('The simulated variables are: \\n',data)\n",
    "\n",
    "#Maximum Likelihood\n",
    "print('\\n1. Maximum Likelihood:')\n",
    "ML_mean = 1/N * np.sum(data, axis = 0)\n",
    "print('Mean: \\n', ML_mean)\n",
    "\n",
    "_data = data.copy()\n",
    "_data -= _data.mean(axis = 0)\n",
    "ML_sigma = 1/ N * _data.T @ _data\n",
    "print('Covariance Matrix: \\n', ML_sigma)\n",
    "\n",
    "#Bayesian Posterior\n",
    "print('\\n2. Bayesian Posterior:')\n",
    "mean = np.array([[0,0]]).T\n",
    "sigma = np.array([[1,0],[0,1]])\n",
    "m0 = np.array([[0,0]]).T\n",
    "S0 = np.array([[0.1,0],[0,0.1]])\n",
    "\n",
    "pos_sigma = np.linalg.inv((N * np.linalg.inv(sigma) + np.linalg.inv(S0)))\n",
    "pos_mean = pos_sigma @ (np.linalg.inv(sigma) @ np.reshape(np.sum(data, axis = 0), (np.sum(data, axis = 0).shape[0],1)) + np.linalg.inv(S0) @ m0)\n",
    "\n",
    "print('Mean: \\n',pos_mean.T)\n",
    "print('Covariance Matrix: \\n',pos_sigma)"
   ]
  },
  {
   "cell_type": "code",
   "execution_count": 300,
   "metadata": {},
   "outputs": [
    {
     "name": "stdout",
     "output_type": "stream",
     "text": [
      "The scale matrix:\n",
      "[[1.   0.15]\n",
      " [0.15 0.25]]\n",
      "\n",
      "Simulation of Wishart Distribution: The mean matrix\n",
      "\n",
      "1. Varying the sample size (degree of freedom fixed = 2):\n",
      "\n",
      "For 1 samples:\n",
      "[[0.46315593 0.21269774]\n",
      " [0.21269774 0.99929394]]\n",
      "\n",
      "For 10 samples:\n",
      "[[1.43274053 0.42763495]\n",
      " [0.42763495 0.44792232]]\n",
      "\n",
      "For 1000 samples:\n",
      "[[2.03866512 0.33413889]\n",
      " [0.33413889 0.51349856]]\n",
      "\n",
      "2. Varying degree of freedom (sample size fixed = 50) :\n",
      "\n",
      "For degree of freedom of 2:\n",
      "[[2.20493495 0.32515555]\n",
      " [0.32515555 0.41953387]]\n",
      "\n",
      "For degree of freedom of 20:\n",
      "[[2.04055759 0.3200758 ]\n",
      " [0.3200758  0.51223015]]\n",
      "\n",
      "For degree of freedom of 200:\n",
      "[[2.00881455 0.30718032]\n",
      " [0.30718032 0.50497034]]\n",
      "\n",
      "For degree of freedom of 2000:\n",
      "[[2.00239093 0.3023514 ]\n",
      " [0.3023514  0.5017859 ]]\n"
     ]
    }
   ],
   "source": [
    "#Problem 3\n",
    "#Wishart distribution\n",
    "\n",
    "import scipy.stats\n",
    "\n",
    "\n",
    "A = np.array([[2, 0.3],[0.3, 0.5]]) #precision matrix of the multivariate normal distribution\n",
    "\n",
    "\n",
    "#b\n",
    "v = 2 #more than p (=2) - 1\n",
    "W = A / v\n",
    "print('The scale matrix:')\n",
    "print(W)\n",
    "\n",
    "print('\\nSimulation of Wishart Distribution: The mean matrix')\n",
    "print('\\n1. Varying the sample size (degree of freedom fixed = 2):')\n",
    "sizes = [1,10,1000]\n",
    "for size in sizes:\n",
    "    print('\\nFor %s samples:' % size)\n",
    "    wishart = scipy.stats.wishart.rvs(v,W,size, random_state = 5)\n",
    "    if size != 1:\n",
    "        print(np.mean(wishart, axis = 0))\n",
    "    elif size == 1:\n",
    "        print(wishart)\n",
    "        \n",
    "#c\n",
    "print('\\n2. Varying degree of freedom (sample size fixed = 50) :')\n",
    "vs = [2,20,200,2000]\n",
    "size = 50\n",
    "for v in vs:\n",
    "    W = A / v\n",
    "    print('\\nFor degree of freedom of %s:' % v)\n",
    "    wishart = scipy.stats.wishart.rvs(v,W,size, random_state = 5)\n",
    "    print(np.mean(wishart, axis = 0))"
   ]
  }
 ],
 "metadata": {
  "kernelspec": {
   "display_name": "Python 3",
   "language": "python",
   "name": "python3"
  },
  "language_info": {
   "codemirror_mode": {
    "name": "ipython",
    "version": 3
   },
   "file_extension": ".py",
   "mimetype": "text/x-python",
   "name": "python",
   "nbconvert_exporter": "python",
   "pygments_lexer": "ipython3",
   "version": "3.6.4"
  }
 },
 "nbformat": 4,
 "nbformat_minor": 2
}

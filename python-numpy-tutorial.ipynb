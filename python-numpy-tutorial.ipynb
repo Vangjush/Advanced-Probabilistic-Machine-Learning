{
 "cells": [
  {
   "cell_type": "markdown",
   "metadata": {},
   "source": [
    "This tutorial partially uses material from [here](https://courses.engr.illinois.edu/ece544na/fa2016/python_numpy_tensorflow_tutorial.pdf)."
   ]
  },
  {
   "cell_type": "markdown",
   "metadata": {},
   "source": [
    "#  1 What is Python?\n",
    "\n",
    "From Wikipedia:  \n",
    "- Python is a widely used high-level, general-purpose, interpreted, dynamic programming language.  \n",
    "- Design philosophy emphasizes code readability, and its syntax allows programmers to express concepts in fewer lines of code than possible in languages such as C++ or Java.\n",
    "\n",
    "For Python basics, see:\n",
    "- https://docs.python.org/3/tutorial/introduction.html\n",
    "- https://docs.python.org/3/tutorial/controlflow.html\n",
    "- https://docs.python.org/3/tutorial/datastructures.html"
   ]
  },
  {
   "cell_type": "markdown",
   "metadata": {},
   "source": [
    "## 1.1 Python Function"
   ]
  },
  {
   "cell_type": "code",
   "execution_count": 5,
   "metadata": {},
   "outputs": [],
   "source": [
    "def main():\n",
    "    print(\"Hello World\")"
   ]
  },
  {
   "cell_type": "code",
   "execution_count": 6,
   "metadata": {},
   "outputs": [
    {
     "name": "stdout",
     "output_type": "stream",
     "text": [
      "Hello World\n"
     ]
    }
   ],
   "source": [
    "main()"
   ]
  },
  {
   "cell_type": "code",
   "execution_count": 7,
   "metadata": {},
   "outputs": [
    {
     "name": "stdout",
     "output_type": "stream",
     "text": [
      "7\n"
     ]
    }
   ],
   "source": [
    "def plus(a, b):\n",
    "    return a + b\n",
    "\n",
    "print(plus(2, 5))"
   ]
  },
  {
   "cell_type": "markdown",
   "metadata": {},
   "source": [
    "##  1.2 Python String Manipulation"
   ]
  },
  {
   "cell_type": "code",
   "execution_count": 8,
   "metadata": {},
   "outputs": [],
   "source": [
    "line1 = \"Hello\"\n",
    "line2 = \"ECE544\"\n",
    "class_num = 544"
   ]
  },
  {
   "cell_type": "code",
   "execution_count": 9,
   "metadata": {},
   "outputs": [
    {
     "name": "stdout",
     "output_type": "stream",
     "text": [
      "Hello ECE544\n"
     ]
    }
   ],
   "source": [
    "print(line1, line2) # an optional argument sep can be specified, where the default is sep = \" \""
   ]
  },
  {
   "cell_type": "code",
   "execution_count": 10,
   "metadata": {},
   "outputs": [
    {
     "name": "stdout",
     "output_type": "stream",
     "text": [
      "Hello ECE544\n"
     ]
    }
   ],
   "source": [
    "print(line1 + \" \" + line2) # concatenation of strings using '+'"
   ]
  },
  {
   "cell_type": "code",
   "execution_count": 11,
   "metadata": {},
   "outputs": [
    {
     "name": "stdout",
     "output_type": "stream",
     "text": [
      "Hello ECE544\n"
     ]
    }
   ],
   "source": [
    "print(\"{0} {1}\".format(line1,line2)) # the integer enclosed by {} specifies the position within .format(line1,line2)"
   ]
  },
  {
   "cell_type": "code",
   "execution_count": 12,
   "metadata": {},
   "outputs": [
    {
     "name": "stdout",
     "output_type": "stream",
     "text": [
      "Hello ECE544\n"
     ]
    }
   ],
   "source": [
    "print(\"{first_line} {second_line}\".format(first_line = line1, second_line = line2)) # the same with keywords"
   ]
  },
  {
   "cell_type": "code",
   "execution_count": 13,
   "metadata": {},
   "outputs": [
    {
     "name": "stdout",
     "output_type": "stream",
     "text": [
      "Hello ECE544\n"
     ]
    }
   ],
   "source": [
    "print(\"%s %s\" % (line1, line2)) # printf-style syntax (older style)"
   ]
  },
  {
   "cell_type": "code",
   "execution_count": 14,
   "metadata": {},
   "outputs": [
    {
     "name": "stdout",
     "output_type": "stream",
     "text": [
      "Hello ECE544\n"
     ]
    }
   ],
   "source": [
    "print(\"{0} ECE{1:d}\".format(line1,class_num)) # {1:d} points to class_num to be formatted as an integer"
   ]
  },
  {
   "cell_type": "code",
   "execution_count": 15,
   "metadata": {},
   "outputs": [
    {
     "name": "stdout",
     "output_type": "stream",
     "text": [
      "Hello ECE544\n"
     ]
    }
   ],
   "source": [
    "print(\"%s ECE%d\" % (line1, class_num)) # printf-style syntax (older style)"
   ]
  },
  {
   "cell_type": "markdown",
   "metadata": {},
   "source": [
    "## 1.3 Data structures"
   ]
  },
  {
   "cell_type": "markdown",
   "metadata": {},
   "source": [
    "### 1.3.1 Python Dictionary\n",
    "\n",
    "https://docs.python.org/3/tutorial/datastructures.html#dictionaries\n",
    "\n",
    "Let’s say we have data containing a student i.d. and their favorite classifier.\n",
    "- Student 1 :  SVM\n",
    "- Student 2 :  Perceptron\n",
    "- Studnet 3 :  Linear Regression\n"
   ]
  },
  {
   "cell_type": "code",
   "execution_count": 16,
   "metadata": {},
   "outputs": [],
   "source": [
    "student_classifier_dict = {}\n",
    "student_classifier_dict['Alice'] = 'SVM'\n",
    "student_classifier_dict['Bob'] = 'Perceptron'\n",
    "student_classifier_dict['Claire'] = 'Linear Regression'"
   ]
  },
  {
   "cell_type": "code",
   "execution_count": 17,
   "metadata": {},
   "outputs": [
    {
     "name": "stdout",
     "output_type": "stream",
     "text": [
      "{'Alice': 'SVM', 'Bob': 'Perceptron', 'Claire': 'Linear Regression'}\n"
     ]
    }
   ],
   "source": [
    "print(student_classifier_dict)"
   ]
  },
  {
   "cell_type": "code",
   "execution_count": 18,
   "metadata": {},
   "outputs": [],
   "source": [
    "student_classifier_dict = {'Alice': 'SVM', 'Bob': 'Perceptron', 'Claire': 'Linear Regression'}"
   ]
  },
  {
   "cell_type": "code",
   "execution_count": 19,
   "metadata": {},
   "outputs": [
    {
     "name": "stdout",
     "output_type": "stream",
     "text": [
      "{'Alice': 'SVM', 'Bob': 'Perceptron', 'Claire': 'Linear Regression'}\n"
     ]
    }
   ],
   "source": [
    "print(student_classifier_dict)"
   ]
  },
  {
   "cell_type": "code",
   "execution_count": 20,
   "metadata": {},
   "outputs": [
    {
     "name": "stdout",
     "output_type": "stream",
     "text": [
      "Alice’s favorite classifier is SVM\n"
     ]
    }
   ],
   "source": [
    "print(\"{0}’s favorite classifier is {1}\".format('Alice', student_classifier_dict['Alice']))"
   ]
  },
  {
   "cell_type": "markdown",
   "metadata": {},
   "source": [
    "###  1.3.2 Python List\n",
    "\n",
    "- https://docs.python.org/3/tutorial/introduction.html#lists\n",
    "- https://docs.python.org/3/tutorial/datastructures.html#list-comprehensions\n",
    "\n",
    "**Note:** Python index starts with 0.\n",
    "\n",
    "Same example as above:"
   ]
  },
  {
   "cell_type": "code",
   "execution_count": 21,
   "metadata": {},
   "outputs": [],
   "source": [
    "student_classifier_list = []\n",
    "student_classifier_list.append('SVM')\n",
    "student_classifier_list.append('Perceptron')\n",
    "student_classifier_list.append('Linear Regression')"
   ]
  },
  {
   "cell_type": "code",
   "execution_count": 22,
   "metadata": {},
   "outputs": [
    {
     "name": "stdout",
     "output_type": "stream",
     "text": [
      "['SVM', 'Perceptron', 'Linear Regression']\n"
     ]
    }
   ],
   "source": [
    "print(student_classifier_list)"
   ]
  },
  {
   "cell_type": "code",
   "execution_count": 23,
   "metadata": {},
   "outputs": [
    {
     "name": "stdout",
     "output_type": "stream",
     "text": [
      "Bob’s (student no. 2) favorite classifier is Perceptron\n"
     ]
    }
   ],
   "source": [
    "print(\"{0}’s (student no. {1:d}) favorite classifier is {2}\".format('Bob', 2, student_classifier_list[1]))"
   ]
  },
  {
   "cell_type": "code",
   "execution_count": 24,
   "metadata": {
    "scrolled": false
   },
   "outputs": [
    {
     "name": "stdout",
     "output_type": "stream",
     "text": [
      "['SVM', 'Perceptron']\n",
      "['SVM', 'Perceptron']\n",
      "['Perceptron']\n"
     ]
    }
   ],
   "source": [
    "# Indexing with list\n",
    "print(student_classifier_list[0:2])\n",
    "print(student_classifier_list[0:-1])\n",
    "print(student_classifier_list[1:2])"
   ]
  },
  {
   "cell_type": "markdown",
   "metadata": {},
   "source": [
    "# 2 What is SciPy?\n",
    "\n",
    "https://scipy.org/\n",
    "\n",
    "''SciPy is a Python-based ecosystem of open-source software for mathematics, science, and engineering.''\n",
    "\n",
    "The core packages of SciPy used on this course include\n",
    "- NumPy (manipulation of multidimensional data)\n",
    "- the SciPy library (probability distributions and other tools)\n",
    "- Matplotlib (plotting)"
   ]
  },
  {
   "cell_type": "markdown",
   "metadata": {},
   "source": [
    "## 2.1  Numpy arrays\n",
    "\n",
    "Numpy provides the container np.array for manipulating multidimensional numerical data. More details at\n",
    "- http://docs.scipy.org/doc/numpy/reference/arrays.indexing.html\n",
    "- https://docs.scipy.org/doc/numpy-1.15.0/user/quickstart.html\n",
    "\n",
    "Some examples are shown below. For similarities between Numpy's array and MATLAB's matrices, see\n",
    "- https://docs.scipy.org/doc/numpy-1.15.0/user/numpy-for-matlab-users.html"
   ]
  },
  {
   "cell_type": "code",
   "execution_count": 25,
   "metadata": {},
   "outputs": [],
   "source": [
    "# We import the numpy package and make it accessible via the shorthand 'np'\n",
    "import numpy as np"
   ]
  },
  {
   "cell_type": "code",
   "execution_count": 26,
   "metadata": {},
   "outputs": [
    {
     "name": "stdout",
     "output_type": "stream",
     "text": [
      "[1 2 3]\n"
     ]
    }
   ],
   "source": [
    "# Initializing a one-dimensional numpy array from a list\n",
    "v = np.array([1,2,3])\n",
    "print(v)"
   ]
  },
  {
   "cell_type": "code",
   "execution_count": 27,
   "metadata": {},
   "outputs": [
    {
     "name": "stdout",
     "output_type": "stream",
     "text": [
      "[[ 1  2  3  4]\n",
      " [ 5  6  7  8]\n",
      " [ 9 10 11 12]]\n",
      "The shape is of X is (3, 4)\n"
     ]
    }
   ],
   "source": [
    "# Initializing a two-dimensional 3x4 array from a nested list (a list containing lists)\n",
    "X = np.array([[1,2,3,4], [5,6,7,8], [9,10,11,12]])\n",
    "print(X)\n",
    "\n",
    "# The shape member contains the size of each dimension\n",
    "print(\"The shape is of X is\", X.shape)"
   ]
  },
  {
   "cell_type": "code",
   "execution_count": 28,
   "metadata": {},
   "outputs": [
    {
     "name": "stdout",
     "output_type": "stream",
     "text": [
      "7\n"
     ]
    }
   ],
   "source": [
    "# Indexing an element at row 1 column 2\n",
    "print(X[1,2])"
   ]
  },
  {
   "cell_type": "code",
   "execution_count": 29,
   "metadata": {},
   "outputs": [
    {
     "name": "stdout",
     "output_type": "stream",
     "text": [
      "4\n"
     ]
    }
   ],
   "source": [
    "# Negative numbers can be used to index a dimension from the end\n",
    "\n",
    "# Indexing the last element of row 0\n",
    "print(X[0,-1])"
   ]
  },
  {
   "cell_type": "code",
   "execution_count": 30,
   "metadata": {},
   "outputs": [
    {
     "name": "stdout",
     "output_type": "stream",
     "text": [
      "[10 11]\n"
     ]
    }
   ],
   "source": [
    "# The 'a:b' syntax selects a slice of elements x in the range a <= x < b\n",
    "print(X[2, 1:3])"
   ]
  },
  {
   "cell_type": "code",
   "execution_count": 31,
   "metadata": {},
   "outputs": [
    {
     "name": "stdout",
     "output_type": "stream",
     "text": [
      "[7 8]\n",
      "[1 2 3]\n",
      "[ 3  7 11]\n"
     ]
    }
   ],
   "source": [
    "# Either or both end points of the slice may be omitted\n",
    "print(X[1, 2:])\n",
    "print(X[0, :3])\n",
    "print(X[:, 2])"
   ]
  },
  {
   "cell_type": "code",
   "execution_count": 32,
   "metadata": {},
   "outputs": [
    {
     "name": "stdout",
     "output_type": "stream",
     "text": [
      "[[2 3]\n",
      " [6 7]]\n"
     ]
    }
   ],
   "source": [
    "# Slicing across multiple dimensions\n",
    "print(X[0:2, 1:3])"
   ]
  },
  {
   "cell_type": "code",
   "execution_count": 33,
   "metadata": {},
   "outputs": [
    {
     "name": "stdout",
     "output_type": "stream",
     "text": [
      "A and B concatenated by rows:\n",
      "[[ 1  2  3]\n",
      " [ 4  5  6]\n",
      " [ 7  8  9]\n",
      " [10 11 12]]\n",
      "A and B concatenated by columns:\n",
      "[[ 1  2  3  7  8  9]\n",
      " [ 4  5  6 10 11 12]]\n"
     ]
    }
   ],
   "source": [
    "# Concatenating arrays\n",
    "A = np.array([[1,2,3], [4,5,6]])\n",
    "B = np.array([[7,8,9], [10,11,12]])\n",
    "\n",
    "print(\"A and B concatenated by rows:\")\n",
    "print(np.concatenate((A, B)))\n",
    "\n",
    "print(\"A and B concatenated by columns:\")\n",
    "print(np.concatenate((A, B), axis=1))"
   ]
  },
  {
   "cell_type": "code",
   "execution_count": 34,
   "metadata": {},
   "outputs": [
    {
     "name": "stdout",
     "output_type": "stream",
     "text": [
      "[[ 1  5  9]\n",
      " [ 2  6 10]\n",
      " [ 3  7 11]\n",
      " [ 4  8 12]]\n"
     ]
    }
   ],
   "source": [
    "# The transpose of a two-dimensional array is accessible via .T\n",
    "print(X.T)"
   ]
  },
  {
   "cell_type": "code",
   "execution_count": 35,
   "metadata": {},
   "outputs": [
    {
     "name": "stdout",
     "output_type": "stream",
     "text": [
      "transpose of v is just v:\n",
      "[1 2 3]\n",
      "v reshaped into a 1x3 array:\n",
      "[[1 2 3]]\n",
      "v reshaped into a 3x1 array:\n",
      "[[1]\n",
      " [2]\n",
      " [3]]\n"
     ]
    }
   ],
   "source": [
    "# Note that a one-dimensional array is not considered a row or\n",
    "# a column vector; it is unaffected by the transpose.\n",
    "print(\"transpose of v is just v:\")\n",
    "print(v.T)\n",
    "\n",
    "# It can, however, be reshaped into a two-dimensional array:\n",
    "print(\"v reshaped into a 1x3 array:\")\n",
    "print(v.reshape(1,3))\n",
    "print(\"v reshaped into a 3x1 array:\")\n",
    "print(v.reshape(3,1))"
   ]
  },
  {
   "cell_type": "code",
   "execution_count": 70,
   "metadata": {},
   "outputs": [
    {
     "name": "stdout",
     "output_type": "stream",
     "text": [
      "[0. 0. 0. 0. 0. 0. 0. 0.]\n",
      "[[1. 1. 1. 1.]\n",
      " [1. 1. 1. 1.]]\n",
      "[2 3 4 5 6 7 8]\n",
      "[-2.  -1.5 -1.  -0.5  0.   0.5  1.   1.5  2.   2.5  3. ]\n",
      "[[ 1.521119  0.642656 -0.878946]\n",
      " [-0.665494 -1.545819  0.22787 ]]\n"
     ]
    }
   ],
   "source": [
    "# More tools for creating arrays:\n",
    "\n",
    "# An array of zeros\n",
    "print(np.zeros(8))\n",
    "\n",
    "# A 2x4 array of ones\n",
    "print(np.ones((2,4)))\n",
    "\n",
    "# Integers x with 2 <= x < 9\n",
    "print(np.arange(2, 9))\n",
    "\n",
    "# A range of 11 numbers x with -2 <= x <= 3, spread evenly\n",
    "print(np.linspace(-2, 3, 11))\n",
    "\n",
    "# A 2x3 array of standard normal random values\n",
    "print(np.random.randn(2,3))"
   ]
  },
  {
   "cell_type": "code",
   "execution_count": 39,
   "metadata": {},
   "outputs": [
    {
     "name": "stdout",
     "output_type": "stream",
     "text": [
      "X:\n",
      "[[0. 0. 0.]\n",
      " [0. 0. 0.]]\n",
      "X after modifying Y:\n",
      "[[1. 1. 1.]\n",
      " [0. 0. 0.]]\n",
      "X after modifying y:\n",
      "[[2. 1. 1.]\n",
      " [2. 0. 0.]]\n"
     ]
    }
   ],
   "source": [
    "# In Python, assignment is by reference\n",
    "\n",
    "X = np.zeros((2,3))\n",
    "print(\"X:\")\n",
    "print(X)\n",
    "\n",
    "Y = X         # Y and X now refer to the same array object\n",
    "Y[0,:] = 1    # This changes X\n",
    "print(\"X after modifying Y:\")\n",
    "print(X)\n",
    "\n",
    "# Likewise, slicing creates views to the original array\n",
    "y = X[:,0]    # y refers to data in X\n",
    "y[:] = 2      # This also changes X\n",
    "print(\"X after modifying y:\")\n",
    "print(X)"
   ]
  },
  {
   "cell_type": "code",
   "execution_count": 40,
   "metadata": {},
   "outputs": [
    {
     "name": "stdout",
     "output_type": "stream",
     "text": [
      "Y:\n",
      "[[  2.   1.   1.]\n",
      " [  2.   0. 100.]]\n",
      "X:\n",
      "[[2. 1. 1.]\n",
      " [2. 0. 0.]]\n"
     ]
    }
   ],
   "source": [
    "# To create a true copy, use the .copy() method\n",
    "Y = X.copy()\n",
    "\n",
    "Y[1,2] = 100  # Y changes, X is unaffected\n",
    "print(\"Y:\")\n",
    "print(Y)\n",
    "print(\"X:\")\n",
    "print(X)"
   ]
  },
  {
   "cell_type": "markdown",
   "metadata": {},
   "source": [
    "## 2.2 Numpy basic arithmetic operations\n",
    "\n",
    "- Basic operations: https://docs.scipy.org/doc/numpy-1.15.0/user/quickstart.html#basic-operations\n",
    "- Broadcasting: https://docs.scipy.org/doc/numpy-1.15.0/user/basics.broadcasting.html"
   ]
  },
  {
   "cell_type": "code",
   "execution_count": 41,
   "metadata": {},
   "outputs": [
    {
     "name": "stdout",
     "output_type": "stream",
     "text": [
      "[5 7 9]\n",
      "[[ 5 12]\n",
      " [21 32]]\n"
     ]
    }
   ],
   "source": [
    "# Basic arithmetic operations (+, *, -, /, etc.) are element-wise when the operands\n",
    "# have the same shape\n",
    "\n",
    "x = np.array([1,2,3])\n",
    "y = np.array([4,5,6])\n",
    "print(x + y)\n",
    "\n",
    "A = np.array([[1,2],[3,4]])\n",
    "B = np.array([[5,6],[7,8]])\n",
    "print(A * B)"
   ]
  },
  {
   "cell_type": "code",
   "execution_count": 42,
   "metadata": {},
   "outputs": [
    {
     "name": "stdout",
     "output_type": "stream",
     "text": [
      "[3 4 5]\n",
      "[[0 3]\n",
      " [6 9]]\n"
     ]
    }
   ],
   "source": [
    "# An operation between an array and a scalar is carried over each element in the array\n",
    "\n",
    "print(x + 2)\n",
    "print((A - 1) * 3)"
   ]
  },
  {
   "cell_type": "code",
   "execution_count": 43,
   "metadata": {},
   "outputs": [
    {
     "name": "stdout",
     "output_type": "stream",
     "text": [
      "[[2 4 6]\n",
      " [5 7 9]]\n",
      "[[2 3 4]\n",
      " [6 7 8]]\n"
     ]
    }
   ],
   "source": [
    "# More generally, if a dimension of an array has size 1, it may be \"broadcast\" \n",
    "# across another array\n",
    "\n",
    "A = np.array([[1,2,3], [4,5,6]])   # 2x3\n",
    "x = np.array([[1,2,3]])            # 1x3\n",
    "y = np.array([[1],[2]])            # 2x1\n",
    "\n",
    "print(A + x)    # The sum is broadcast over the rows of A\n",
    "print(A + y)    # The sum is broadcast over the columns of A"
   ]
  },
  {
   "cell_type": "code",
   "execution_count": 44,
   "metadata": {},
   "outputs": [
    {
     "name": "stdout",
     "output_type": "stream",
     "text": [
      "[0.       1.       1.414214 1.732051 2.       2.236068]\n"
     ]
    }
   ],
   "source": [
    "# More complex functions also operate directly on arrays; the function is \n",
    "# applied to each element\n",
    "\n",
    "x = np.array([0,1,2,3,4,5])\n",
    "print(np.sqrt(x))     # The square root of all elements in x"
   ]
  },
  {
   "cell_type": "markdown",
   "metadata": {},
   "source": [
    "## 2.3 Numpy matrix multiplication (np.dot)\n",
    "\n",
    "Matrix multiplication is done with the np.dot function. More information at:\n",
    "- https://docs.scipy.org/doc/numpy/reference/generated/numpy.dot.html"
   ]
  },
  {
   "cell_type": "code",
   "execution_count": 45,
   "metadata": {},
   "outputs": [
    {
     "name": "stdout",
     "output_type": "stream",
     "text": [
      "32\n"
     ]
    }
   ],
   "source": [
    "# For one-dimensional arrays, np.dot yields their inner product\n",
    "x = np.array([1,2,3])\n",
    "y = np.array([4,5,6])\n",
    "print(np.dot(x,y))    # 1*4 + 2*5 + 3*6"
   ]
  },
  {
   "cell_type": "code",
   "execution_count": 46,
   "metadata": {},
   "outputs": [
    {
     "name": "stdout",
     "output_type": "stream",
     "text": [
      "32\n"
     ]
    }
   ],
   "source": [
    "# Alternatively, \"@\" can be used for matrix multiplication of arrays;\n",
    "print(x @ y)"
   ]
  },
  {
   "cell_type": "code",
   "execution_count": 47,
   "metadata": {},
   "outputs": [
    {
     "name": "stdout",
     "output_type": "stream",
     "text": [
      "[[22 28]\n",
      " [49 64]]\n",
      "[[ 9 12 15]\n",
      " [19 26 33]\n",
      " [29 40 51]]\n"
     ]
    }
   ],
   "source": [
    "# For two-dimensional arrays, it yields the matrix multiplication\n",
    "A = np.array([[1,2,3], [4,5,6]])       # 2x3\n",
    "B = np.array([[1,2], [3,4], [5,6]])    # 3x2\n",
    "print(np.dot(A,B))                     # AB, a 2x2 array\n",
    "print(np.dot(B,A))                     # BA, a 3x3 array"
   ]
  },
  {
   "cell_type": "code",
   "execution_count": 48,
   "metadata": {},
   "outputs": [
    {
     "name": "stdout",
     "output_type": "stream",
     "text": [
      "[[22 28]\n",
      " [49 64]]\n",
      "[[ 9 12 15]\n",
      " [19 26 33]\n",
      " [29 40 51]]\n"
     ]
    }
   ],
   "source": [
    "# Same as above\n",
    "print(A @ B)                     # AB, a 2x2 array\n",
    "print(B @ A)                     # BA, a 3x3 array"
   ]
  },
  {
   "cell_type": "code",
   "execution_count": 49,
   "metadata": {},
   "outputs": [
    {
     "name": "stdout",
     "output_type": "stream",
     "text": [
      "[14 32]\n",
      "[22 28]\n"
     ]
    }
   ],
   "source": [
    "# Multiplying a one-dimensional array with a two-dimensional array has certain \n",
    "# convenient semantics that often omits the need to explicitly transpose or \n",
    "# reshape arrays\n",
    "\n",
    "# This yields Ax with x treated as a column vector\n",
    "print(np.dot(A,x))\n",
    "\n",
    "# This yields xB with x treated as a row vector\n",
    "print(np.dot(x,B))\n",
    "\n",
    "# Note that the results are one-dimensional"
   ]
  },
  {
   "cell_type": "code",
   "execution_count": 50,
   "metadata": {},
   "outputs": [
    {
     "name": "stdout",
     "output_type": "stream",
     "text": [
      "[14 32]\n",
      "[22 28]\n"
     ]
    }
   ],
   "source": [
    "# Same as above\n",
    "print(A @ x)\n",
    "print(x @ B)"
   ]
  },
  {
   "cell_type": "code",
   "execution_count": 51,
   "metadata": {},
   "outputs": [
    {
     "name": "stdout",
     "output_type": "stream",
     "text": [
      "[[14]]\n",
      "[[1 2 3]\n",
      " [2 4 6]\n",
      " [3 6 9]]\n"
     ]
    }
   ],
   "source": [
    "# For other cases the one-dimensional array needs to be reshaped\n",
    "x = x.reshape(3,1)       # 3x1 column vector\n",
    "print(np.dot(x.T, x))    # inner product\n",
    "print(np.dot(x, x.T))    # outer product"
   ]
  },
  {
   "cell_type": "code",
   "execution_count": 52,
   "metadata": {},
   "outputs": [
    {
     "name": "stdout",
     "output_type": "stream",
     "text": [
      "[[14]]\n",
      "[[1 2 3]\n",
      " [2 4 6]\n",
      " [3 6 9]]\n"
     ]
    }
   ],
   "source": [
    "# Same as above\n",
    "print(x.T @ x)    # inner product\n",
    "print(x @ x.T)    # outer product"
   ]
  },
  {
   "cell_type": "markdown",
   "metadata": {},
   "source": [
    "## 2.4 Numpy linear algebra\n",
    "\n"
   ]
  },
  {
   "cell_type": "markdown",
   "metadata": {},
   "source": [
    "Numpy provides tools for basic linear algebra."
   ]
  },
  {
   "cell_type": "code",
   "execution_count": 54,
   "metadata": {},
   "outputs": [],
   "source": [
    "# Ax = b\n",
    "A = np.random.randn(3,3) # Creates a 3x3 random array\n",
    "x = np.random.randn(3,1) # Creates a 3x1 vector\n",
    "b = A @ x # Compute Ax = b"
   ]
  },
  {
   "cell_type": "code",
   "execution_count": 55,
   "metadata": {},
   "outputs": [],
   "source": [
    "# Solve Ax = b for x by multiplying b with the inverse of A\n",
    "x_hat = np.linalg.inv(A) @ b"
   ]
  },
  {
   "cell_type": "code",
   "execution_count": 56,
   "metadata": {},
   "outputs": [
    {
     "name": "stdout",
     "output_type": "stream",
     "text": [
      "This is x:\n",
      "[[ 0.814821]\n",
      " [-0.05251 ]\n",
      " [-1.411061]]\n",
      "This is x_hat:\n",
      "[[ 0.814821]\n",
      " [-0.05251 ]\n",
      " [-1.411061]]\n"
     ]
    }
   ],
   "source": [
    "print(\"This is x:\")\n",
    "print(x)\n",
    "print(\"This is x_hat:\")\n",
    "print(x_hat)"
   ]
  },
  {
   "cell_type": "markdown",
   "metadata": {},
   "source": [
    "## 3 Matplotlib\n",
    "\n",
    "Matplotlib is a tool for plotting data. More information at: https://matplotlib.org/tutorials/index.html"
   ]
  },
  {
   "cell_type": "code",
   "execution_count": 57,
   "metadata": {},
   "outputs": [],
   "source": [
    "# Only need ’%matplotlib inline’ when running in ipython notebook.\n",
    "%matplotlib inline\n",
    "import warnings\n",
    "warnings.filterwarnings(\"ignore\")\n",
    "\n",
    "# We make the plotting tool available via the shorthand 'plt'\n",
    "import matplotlib.pyplot as plt"
   ]
  },
  {
   "cell_type": "code",
   "execution_count": 58,
   "metadata": {},
   "outputs": [
    {
     "name": "stdout",
     "output_type": "stream",
     "text": [
      "x = [-2 -1  0  2  3  4  5  6]\n",
      "y = [ 4  1  0  4  9 16 25 36]\n"
     ]
    },
    {
     "data": {
      "image/png": "[encoded data removed]",
      "text/plain": [
       "<matplotlib.figure.Figure at 0x181898550>"
      ]
     },
     "metadata": {},
     "output_type": "display_data"
    }
   ],
   "source": [
    "# Create arrays x and y where y contains the elements of x squared\n",
    "x = np.array([-2,-1,0,2,3,4,5,6])\n",
    "y = x ** 2\n",
    "\n",
    "print(\"x =\", x)\n",
    "print(\"y =\", y)\n",
    "\n",
    "# Plot the elements of x against the elements of y\n",
    "plt.plot(x, y)\n",
    "\n",
    "# Show the plot\n",
    "plt.show()"
   ]
  },
  {
   "cell_type": "code",
   "execution_count": 59,
   "metadata": {},
   "outputs": [
    {
     "data": {
      "image/png": "[encoded data removed]",
      "text/plain": [
       "<matplotlib.figure.Figure at 0x181914048>"
      ]
     },
     "metadata": {},
     "output_type": "display_data"
    }
   ],
   "source": [
    "# Create 200 data points, using a linear model with noise\n",
    "x = (np.random.rand(200,1) - 0.5) * 2.0\n",
    "noise = 10 * np.random.rand(200,1)\n",
    "b = 1\n",
    "y = 0.5 * x + b + 0.02 * noise\n",
    "\n",
    "# A scatter plot\n",
    "plt.scatter(x, y)\n",
    "plt.show()"
   ]
  },
  {
   "cell_type": "markdown",
   "metadata": {},
   "source": [
    "## 4 Exercises\n",
    "\n",
    "Short exercises to practice with. These exercises will not be graded."
   ]
  },
  {
   "cell_type": "markdown",
   "metadata": {},
   "source": [
    "### 4.1 Array splicing\n",
    "\n",
    "First, create a 4x4 array with arbitrary values, then\n",
    "- Extract every element from the second row.\n",
    "- Extract every element from the third column.\n",
    "- Assign a value of 0.21 to upper left 2x2 subarray.\n",
    "- Use np.split() for splitting the array into two new 2x4 arrays. Reconstruct the original 4x4 array by using np.concatenate()\n",
    "- Repeat the same but with 4x2 subarrays."
   ]
  },
  {
   "cell_type": "code",
   "execution_count": 69,
   "metadata": {},
   "outputs": [
    {
     "name": "stdout",
     "output_type": "stream",
     "text": [
      "[[1 5 2 3]\n",
      " [9 7 6 7]\n",
      " [3 3 6 8]\n",
      " [2 3 1 8]]\n",
      "[9 7 6 7]\n",
      "[2 6 6 1]\n",
      "[[ 1  5  2  3]\n",
      " [ 9  7  6  7]\n",
      " [ 3  3 15  8]\n",
      " [ 2  3  1  8]]\n",
      "[array([[1, 5, 2, 3],\n",
      "       [9, 7, 6, 7]]), array([[ 3,  3, 15,  8],\n",
      "       [ 2,  3,  1,  8]])]\n",
      "[array([[1, 5],\n",
      "       [9, 7],\n",
      "       [3, 3],\n",
      "       [2, 3]]), array([[ 2,  3],\n",
      "       [ 6,  7],\n",
      "       [15,  8],\n",
      "       [ 1,  8]])]\n"
     ]
    }
   ],
   "source": [
    "a = np.random.randint(10,size=(4,4))\n",
    "print(a)\n",
    "\n",
    "print(a[1,:])\n",
    "print(a[:,2])\n",
    "\n",
    "a[2,2] = 15.21\n",
    "print(a)\n",
    "\n",
    "print(np.split(a, 2, axis=0))\n",
    "print(np.split(a, 2, axis =1))"
   ]
  },
  {
   "cell_type": "markdown",
   "metadata": {},
   "source": [
    "### 4.2 Vectorized operations\n",
    "\n",
    "The derivative of a function $f$ can be calculated numerically with the finite difference method as:\n",
    "\n",
    "$f'(x) \\simeq \\displaystyle \\frac{f(x+\\Delta) - f(x-\\Delta)}{2 \\Delta} \\,,$\n",
    "\n",
    "where $\\Delta$ is a small number.\n",
    "Construct a 1D Numpy array containing the values of $x$ in the interval $[0, \\pi]$ with spacing $\\Delta$.\n",
    "Evaluate numerically the derivative of $sin(x)$ in this interval using the above method.\n",
    "Consider multiple values of $\\Delta$ and compare the result to $cos(x)$ in the same interval.\n",
    "\n",
    "Avoid using for loops! As in the examples above, try to perform the computation for all elements of the interval in vectorized form.\n",
    "\n",
    "Useful tools: np.pi, np.sin, np.cos"
   ]
  },
  {
   "cell_type": "code",
   "execution_count": 79,
   "metadata": {},
   "outputs": [
    {
     "name": "stdout",
     "output_type": "stream",
     "text": [
      "[0.       0.785398 1.570796 2.356194 3.141593]\n",
      "[1. 1. 1. 1. 1.]\n"
     ]
    }
   ],
   "source": [
    "v = np.linspace(0, np.pi, 5)\n",
    "print(v)\n",
    "\n",
    "d = np.array([0.001,0.005,0.01,0.05])\n",
    "\n",
    "d1 = 0.001\n",
    "d2 = 0.005\n",
    "d3 = 0.01\n",
    "\n",
    "u1 = ((v + d1) - (v-d1))/(2*d1)\n",
    "u2 = ((v + d2) - (v-d2))/(2*d2)\n",
    "u3 = ((v + d3) - (v-d3))/(2*d3)\n",
    "\n",
    "print(u1)"
   ]
  },
  {
   "cell_type": "markdown",
   "metadata": {},
   "source": [
    "### 4.3 Probability distributions\n",
    "\n",
    "Explore the tools in the numpy.random module: https://docs.scipy.org/doc/numpy/reference/routines.random.html\n",
    "\n",
    "- Using the module, generate a 10x10 array whose elements are uniformly distributed random numbers.\n",
    "- Calculate the mean and standard deviation of the array using numpy.mean() and numpy.std().\n",
    "- Choose some other random distribution and calculate its mean and standard deviation."
   ]
  },
  {
   "cell_type": "code",
   "execution_count": 89,
   "metadata": {},
   "outputs": [
    {
     "name": "stdout",
     "output_type": "stream",
     "text": [
      "(10, 10)\n",
      "5.431160126747081\n",
      "2.6706120669935993\n"
     ]
    },
    {
     "data": {
      "image/png": "[encoded data removed]",
      "text/plain": [
       "<matplotlib.figure.Figure at 0x1819a2550>"
      ]
     },
     "metadata": {},
     "output_type": "display_data"
    }
   ],
   "source": [
    "a = np.random.uniform(0, 10 , (10,10))\n",
    "print(a.shape)\n",
    "print(np.mean(a))\n",
    "print(np.std(a))\n",
    "\n",
    "plt.plot(a)\n",
    "plt.show()"
   ]
  },
  {
   "cell_type": "code",
   "execution_count": 91,
   "metadata": {},
   "outputs": [
    {
     "name": "stdout",
     "output_type": "stream",
     "text": [
      "[[  3.185061   3.660976   2.958765   3.72043  ...   4.98185    7.514475 -11.864917  12.224203]\n",
      " [  3.678831  -9.374464  -0.327594  -4.414135 ...  16.002358   1.34658    6.150119  16.201081]\n",
      " [ -2.406184 -14.901502  -1.045816   7.358736 ...  13.224624   0.324987  10.619672  -2.524361]\n",
      " [ 23.129793 -17.973035  19.535856   8.780631 ...  -2.873444  -6.79679   19.5046    -5.9983  ]\n",
      " ...\n",
      " [  8.304994   8.80089    7.01002    3.176967 ...  17.442779   7.044864   9.055359  16.334019]\n",
      " [  9.087772   9.112763   7.969379 -11.276711 ...   1.206057  11.170308 -11.379143  17.460807]\n",
      " [  9.811229  26.680728   5.747808  16.866463 ...   4.289737  -9.361971 -14.934183   5.664197]\n",
      " [ 24.582545   4.67797    6.598425   8.240577 ...  -8.212038  13.681552  16.186723  -3.402592]]\n",
      "5.272735488168766\n",
      "9.93093397149445\n"
     ]
    }
   ],
   "source": [
    "b = np.random.normal(5,10,(10,10))\n",
    "print(b)\n",
    "print(np.mean(b))\n",
    "print(np.std(b))"
   ]
  }
 ],
 "metadata": {
  "kernelspec": {
   "display_name": "Python 3",
   "language": "python",
   "name": "python3"
  },
  "language_info": {
   "codemirror_mode": {
    "name": "ipython",
    "version": 3
   },
   "file_extension": ".py",
   "mimetype": "text/x-python",
   "name": "python",
   "nbconvert_exporter": "python",
   "pygments_lexer": "ipython3",
   "version": "3.6.4"
  }
 },
 "nbformat": 4,
 "nbformat_minor": 2
}
